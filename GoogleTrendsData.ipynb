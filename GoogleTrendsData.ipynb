{
 "cells": [
  {
   "cell_type": "markdown",
   "id": "ca121a25-a192-4aba-852d-fde5a09a201e",
   "metadata": {},
   "source": [
    "# Google Trends Data Analysis\n",
    "\n",
    "Datasets used and sources:\n",
    "\n",
    "- Bitcoin Search Trend CSV (Google Trends)\n",
    "- Daily Bitcoin Price CSV (Yahoo Finance)\n",
    "\n",
    "- TESLA Search Trend vs Price (Google Trends, Yahoo Finance)\n",
    "  1st June 2010 - 1st June 2020  \n",
    "- UE Benefits Search vs UE Rate 2004-19 (FRED)\n",
    "- UE Benefits Search vs UE Rate 2004-20 (FRED) "
   ]
  },
  {
   "cell_type": "code",
   "execution_count": 11,
   "id": "233f0cd6-ad10-4f14-b1b3-314cd6727e85",
   "metadata": {},
   "outputs": [],
   "source": [
    "import pandas as pd\n",
    "import matplotlib.pyplot as plt"
   ]
  },
  {
   "cell_type": "markdown",
   "id": "cad18ddd-01b3-4806-a636-0c03fdffa7ec",
   "metadata": {},
   "source": [
    "## TESLA Search Trend vs Price"
   ]
  },
  {
   "cell_type": "markdown",
   "id": "3111d30e-97f6-458d-81e2-251e70a86b25",
   "metadata": {},
   "source": [
    "### Data Exploration"
   ]
  },
  {
   "cell_type": "code",
   "execution_count": 13,
   "id": "a51eaafc-fa7a-40ed-a1ea-624c20becfe4",
   "metadata": {},
   "outputs": [],
   "source": [
    "tesla = pd.read_csv(\"data/TESLA Search Trend vs Price.csv\")"
   ]
  },
  {
   "cell_type": "code",
   "execution_count": 39,
   "id": "1e04d63f-bb27-4104-bf4f-f10c61905f4a",
   "metadata": {
    "scrolled": true
   },
   "outputs": [
    {
     "data": {
      "text/html": [
       "<div>\n",
       "<style scoped>\n",
       "    .dataframe tbody tr th:only-of-type {\n",
       "        vertical-align: middle;\n",
       "    }\n",
       "\n",
       "    .dataframe tbody tr th {\n",
       "        vertical-align: top;\n",
       "    }\n",
       "\n",
       "    .dataframe thead th {\n",
       "        text-align: right;\n",
       "    }\n",
       "</style>\n",
       "<table border=\"1\" class=\"dataframe\">\n",
       "  <thead>\n",
       "    <tr style=\"text-align: right;\">\n",
       "      <th></th>\n",
       "      <th>MONTH</th>\n",
       "      <th>TSLA_WEB_SEARCH</th>\n",
       "      <th>TSLA_USD_CLOSE</th>\n",
       "    </tr>\n",
       "  </thead>\n",
       "  <tbody>\n",
       "    <tr>\n",
       "      <th>0</th>\n",
       "      <td>2010-06-01</td>\n",
       "      <td>3</td>\n",
       "      <td>4.766000</td>\n",
       "    </tr>\n",
       "    <tr>\n",
       "      <th>1</th>\n",
       "      <td>2010-07-01</td>\n",
       "      <td>3</td>\n",
       "      <td>3.988000</td>\n",
       "    </tr>\n",
       "    <tr>\n",
       "      <th>2</th>\n",
       "      <td>2010-08-01</td>\n",
       "      <td>2</td>\n",
       "      <td>3.896000</td>\n",
       "    </tr>\n",
       "    <tr>\n",
       "      <th>3</th>\n",
       "      <td>2010-09-01</td>\n",
       "      <td>2</td>\n",
       "      <td>4.082000</td>\n",
       "    </tr>\n",
       "    <tr>\n",
       "      <th>4</th>\n",
       "      <td>2010-10-01</td>\n",
       "      <td>2</td>\n",
       "      <td>4.368000</td>\n",
       "    </tr>\n",
       "    <tr>\n",
       "      <th>...</th>\n",
       "      <td>...</td>\n",
       "      <td>...</td>\n",
       "      <td>...</td>\n",
       "    </tr>\n",
       "    <tr>\n",
       "      <th>119</th>\n",
       "      <td>2020-05-01</td>\n",
       "      <td>16</td>\n",
       "      <td>167.000000</td>\n",
       "    </tr>\n",
       "    <tr>\n",
       "      <th>120</th>\n",
       "      <td>2020-06-01</td>\n",
       "      <td>17</td>\n",
       "      <td>215.962006</td>\n",
       "    </tr>\n",
       "    <tr>\n",
       "      <th>121</th>\n",
       "      <td>2020-07-01</td>\n",
       "      <td>24</td>\n",
       "      <td>286.152008</td>\n",
       "    </tr>\n",
       "    <tr>\n",
       "      <th>122</th>\n",
       "      <td>2020-08-01</td>\n",
       "      <td>23</td>\n",
       "      <td>498.320007</td>\n",
       "    </tr>\n",
       "    <tr>\n",
       "      <th>123</th>\n",
       "      <td>2020-09-01</td>\n",
       "      <td>31</td>\n",
       "      <td>407.339996</td>\n",
       "    </tr>\n",
       "  </tbody>\n",
       "</table>\n",
       "<p>124 rows × 3 columns</p>\n",
       "</div>"
      ],
      "text/plain": [
       "          MONTH  TSLA_WEB_SEARCH  TSLA_USD_CLOSE\n",
       "0    2010-06-01                3        4.766000\n",
       "1    2010-07-01                3        3.988000\n",
       "2    2010-08-01                2        3.896000\n",
       "3    2010-09-01                2        4.082000\n",
       "4    2010-10-01                2        4.368000\n",
       "..          ...              ...             ...\n",
       "119  2020-05-01               16      167.000000\n",
       "120  2020-06-01               17      215.962006\n",
       "121  2020-07-01               24      286.152008\n",
       "122  2020-08-01               23      498.320007\n",
       "123  2020-09-01               31      407.339996\n",
       "\n",
       "[124 rows x 3 columns]"
      ]
     },
     "execution_count": 39,
     "metadata": {},
     "output_type": "execute_result"
    }
   ],
   "source": [
    "tesla"
   ]
  },
  {
   "cell_type": "code",
   "execution_count": 41,
   "id": "8ae107b3-8e7c-4daa-8738-5c10daba0c32",
   "metadata": {},
   "outputs": [
    {
     "data": {
      "text/plain": [
       "MONTH               object\n",
       "TSLA_WEB_SEARCH      int64\n",
       "TSLA_USD_CLOSE     float64\n",
       "dtype: object"
      ]
     },
     "execution_count": 41,
     "metadata": {},
     "output_type": "execute_result"
    }
   ],
   "source": [
    "tesla.dtypes"
   ]
  },
  {
   "cell_type": "code",
   "execution_count": 43,
   "id": "302f722b-bb89-43a3-9f3a-0e2b48e8dcdb",
   "metadata": {},
   "outputs": [
    {
     "data": {
      "text/html": [
       "<div>\n",
       "<style scoped>\n",
       "    .dataframe tbody tr th:only-of-type {\n",
       "        vertical-align: middle;\n",
       "    }\n",
       "\n",
       "    .dataframe tbody tr th {\n",
       "        vertical-align: top;\n",
       "    }\n",
       "\n",
       "    .dataframe thead th {\n",
       "        text-align: right;\n",
       "    }\n",
       "</style>\n",
       "<table border=\"1\" class=\"dataframe\">\n",
       "  <thead>\n",
       "    <tr style=\"text-align: right;\">\n",
       "      <th></th>\n",
       "      <th>TSLA_WEB_SEARCH</th>\n",
       "      <th>TSLA_USD_CLOSE</th>\n",
       "    </tr>\n",
       "  </thead>\n",
       "  <tbody>\n",
       "    <tr>\n",
       "      <th>count</th>\n",
       "      <td>124.000000</td>\n",
       "      <td>124.000000</td>\n",
       "    </tr>\n",
       "    <tr>\n",
       "      <th>mean</th>\n",
       "      <td>8.725806</td>\n",
       "      <td>50.962145</td>\n",
       "    </tr>\n",
       "    <tr>\n",
       "      <th>std</th>\n",
       "      <td>5.870332</td>\n",
       "      <td>65.908389</td>\n",
       "    </tr>\n",
       "    <tr>\n",
       "      <th>min</th>\n",
       "      <td>2.000000</td>\n",
       "      <td>3.896000</td>\n",
       "    </tr>\n",
       "    <tr>\n",
       "      <th>25%</th>\n",
       "      <td>3.750000</td>\n",
       "      <td>7.352500</td>\n",
       "    </tr>\n",
       "    <tr>\n",
       "      <th>50%</th>\n",
       "      <td>8.000000</td>\n",
       "      <td>44.653000</td>\n",
       "    </tr>\n",
       "    <tr>\n",
       "      <th>75%</th>\n",
       "      <td>12.000000</td>\n",
       "      <td>58.991999</td>\n",
       "    </tr>\n",
       "    <tr>\n",
       "      <th>max</th>\n",
       "      <td>31.000000</td>\n",
       "      <td>498.320007</td>\n",
       "    </tr>\n",
       "  </tbody>\n",
       "</table>\n",
       "</div>"
      ],
      "text/plain": [
       "       TSLA_WEB_SEARCH  TSLA_USD_CLOSE\n",
       "count       124.000000      124.000000\n",
       "mean          8.725806       50.962145\n",
       "std           5.870332       65.908389\n",
       "min           2.000000        3.896000\n",
       "25%           3.750000        7.352500\n",
       "50%           8.000000       44.653000\n",
       "75%          12.000000       58.991999\n",
       "max          31.000000      498.320007"
      ]
     },
     "execution_count": 43,
     "metadata": {},
     "output_type": "execute_result"
    }
   ],
   "source": [
    "tesla.describe()"
   ]
  },
  {
   "cell_type": "markdown",
   "id": "8b77e176-c66d-4377-9786-19c2c68cc9d6",
   "metadata": {},
   "source": [
    "### Data Exploration Summary"
   ]
  },
  {
   "cell_type": "markdown",
   "id": "4253d564-154b-47eb-b373-183b26195794",
   "metadata": {},
   "source": [
    "- There are 3 columns with 124 rows of data\n",
    "- The column data types are: 'MONTH' = Object, 'TSLA_WEB_SEARCH' = int64, 'TSLA_USD_CLOSE' = float64\n",
    "- The data in the columns represent:\n",
    "  'MONTH' = The date, 'TSLA_WEB_SEARCH' = Monthly search interest on Google, 'TSLA_USD_CLOSE' = Closing Price of TSLA stock in USD\n",
    "- The highest number of searches during the period was 31\n",
    "- The lowest number of searches during the period was 2\n",
    "- The highest Closing Price of TSLA stock during the period was \\\\$498.320007\n",
    "- The lowest Closing Price of TSLA stock during the period was \\\\$3.896000\n",
    "- The periodicity of the time series data is Monthly"
   ]
  },
  {
   "cell_type": "markdown",
   "id": "ea96a69f-7ed4-4168-a56f-5558a0912591",
   "metadata": {},
   "source": [
    "## UE Benefits Search vs UE Rate 2004-19"
   ]
  },
  {
   "cell_type": "markdown",
   "id": "42471d08-ba63-4cde-9c51-b7915dabb9b2",
   "metadata": {},
   "source": [
    "### Data Exploration"
   ]
  },
  {
   "cell_type": "code",
   "execution_count": 55,
   "id": "0ed2d561-f891-40d4-b47e-367b3b1d0e6e",
   "metadata": {},
   "outputs": [],
   "source": [
    "ue_200419 = pd.read_csv('data/UE Benefits Search vs UE Rate 2004-19.csv')"
   ]
  },
  {
   "cell_type": "code",
   "execution_count": 61,
   "id": "9041cf78-1acd-4e74-a495-8685f8665ac2",
   "metadata": {},
   "outputs": [
    {
     "data": {
      "text/html": [
       "<div>\n",
       "<style scoped>\n",
       "    .dataframe tbody tr th:only-of-type {\n",
       "        vertical-align: middle;\n",
       "    }\n",
       "\n",
       "    .dataframe tbody tr th {\n",
       "        vertical-align: top;\n",
       "    }\n",
       "\n",
       "    .dataframe thead th {\n",
       "        text-align: right;\n",
       "    }\n",
       "</style>\n",
       "<table border=\"1\" class=\"dataframe\">\n",
       "  <thead>\n",
       "    <tr style=\"text-align: right;\">\n",
       "      <th></th>\n",
       "      <th>MONTH</th>\n",
       "      <th>UE_BENEFITS_WEB_SEARCH</th>\n",
       "      <th>UNRATE</th>\n",
       "    </tr>\n",
       "  </thead>\n",
       "  <tbody>\n",
       "    <tr>\n",
       "      <th>0</th>\n",
       "      <td>2004-01</td>\n",
       "      <td>34</td>\n",
       "      <td>5.7</td>\n",
       "    </tr>\n",
       "    <tr>\n",
       "      <th>1</th>\n",
       "      <td>2004-02</td>\n",
       "      <td>33</td>\n",
       "      <td>5.6</td>\n",
       "    </tr>\n",
       "    <tr>\n",
       "      <th>2</th>\n",
       "      <td>2004-03</td>\n",
       "      <td>25</td>\n",
       "      <td>5.8</td>\n",
       "    </tr>\n",
       "    <tr>\n",
       "      <th>3</th>\n",
       "      <td>2004-04</td>\n",
       "      <td>29</td>\n",
       "      <td>5.6</td>\n",
       "    </tr>\n",
       "    <tr>\n",
       "      <th>4</th>\n",
       "      <td>2004-05</td>\n",
       "      <td>23</td>\n",
       "      <td>5.6</td>\n",
       "    </tr>\n",
       "  </tbody>\n",
       "</table>\n",
       "</div>"
      ],
      "text/plain": [
       "     MONTH  UE_BENEFITS_WEB_SEARCH  UNRATE\n",
       "0  2004-01                      34     5.7\n",
       "1  2004-02                      33     5.6\n",
       "2  2004-03                      25     5.8\n",
       "3  2004-04                      29     5.6\n",
       "4  2004-05                      23     5.6"
      ]
     },
     "execution_count": 61,
     "metadata": {},
     "output_type": "execute_result"
    }
   ],
   "source": [
    "ue_200419.head()"
   ]
  },
  {
   "cell_type": "code",
   "execution_count": 67,
   "id": "8b1798c4-4b6a-4f25-b4e2-f1b8571a2446",
   "metadata": {},
   "outputs": [
    {
     "data": {
      "text/html": [
       "<div>\n",
       "<style scoped>\n",
       "    .dataframe tbody tr th:only-of-type {\n",
       "        vertical-align: middle;\n",
       "    }\n",
       "\n",
       "    .dataframe tbody tr th {\n",
       "        vertical-align: top;\n",
       "    }\n",
       "\n",
       "    .dataframe thead th {\n",
       "        text-align: right;\n",
       "    }\n",
       "</style>\n",
       "<table border=\"1\" class=\"dataframe\">\n",
       "  <thead>\n",
       "    <tr style=\"text-align: right;\">\n",
       "      <th></th>\n",
       "      <th>MONTH</th>\n",
       "      <th>UE_BENEFITS_WEB_SEARCH</th>\n",
       "      <th>UNRATE</th>\n",
       "    </tr>\n",
       "  </thead>\n",
       "  <tbody>\n",
       "    <tr>\n",
       "      <th>176</th>\n",
       "      <td>2018-09</td>\n",
       "      <td>14</td>\n",
       "      <td>3.7</td>\n",
       "    </tr>\n",
       "    <tr>\n",
       "      <th>177</th>\n",
       "      <td>2018-10</td>\n",
       "      <td>15</td>\n",
       "      <td>3.8</td>\n",
       "    </tr>\n",
       "    <tr>\n",
       "      <th>178</th>\n",
       "      <td>2018-11</td>\n",
       "      <td>16</td>\n",
       "      <td>3.7</td>\n",
       "    </tr>\n",
       "    <tr>\n",
       "      <th>179</th>\n",
       "      <td>2018-12</td>\n",
       "      <td>17</td>\n",
       "      <td>3.9</td>\n",
       "    </tr>\n",
       "    <tr>\n",
       "      <th>180</th>\n",
       "      <td>2019-01</td>\n",
       "      <td>21</td>\n",
       "      <td>4.0</td>\n",
       "    </tr>\n",
       "  </tbody>\n",
       "</table>\n",
       "</div>"
      ],
      "text/plain": [
       "       MONTH  UE_BENEFITS_WEB_SEARCH  UNRATE\n",
       "176  2018-09                      14     3.7\n",
       "177  2018-10                      15     3.8\n",
       "178  2018-11                      16     3.7\n",
       "179  2018-12                      17     3.9\n",
       "180  2019-01                      21     4.0"
      ]
     },
     "execution_count": 67,
     "metadata": {},
     "output_type": "execute_result"
    }
   ],
   "source": [
    "ue_200419.tail()"
   ]
  },
  {
   "cell_type": "code",
   "execution_count": 57,
   "id": "4f21843d-79e2-49c5-974e-03671ed68463",
   "metadata": {},
   "outputs": [
    {
     "data": {
      "text/plain": [
       "MONTH                      object\n",
       "UE_BENEFITS_WEB_SEARCH      int64\n",
       "UNRATE                    float64\n",
       "dtype: object"
      ]
     },
     "execution_count": 57,
     "metadata": {},
     "output_type": "execute_result"
    }
   ],
   "source": [
    "ue_200419.dtypes"
   ]
  },
  {
   "cell_type": "code",
   "execution_count": 65,
   "id": "1ce6e82c-5f0e-42c2-a9b3-b46efd1f63fb",
   "metadata": {},
   "outputs": [
    {
     "data": {
      "text/html": [
       "<div>\n",
       "<style scoped>\n",
       "    .dataframe tbody tr th:only-of-type {\n",
       "        vertical-align: middle;\n",
       "    }\n",
       "\n",
       "    .dataframe tbody tr th {\n",
       "        vertical-align: top;\n",
       "    }\n",
       "\n",
       "    .dataframe thead th {\n",
       "        text-align: right;\n",
       "    }\n",
       "</style>\n",
       "<table border=\"1\" class=\"dataframe\">\n",
       "  <thead>\n",
       "    <tr style=\"text-align: right;\">\n",
       "      <th></th>\n",
       "      <th>UE_BENEFITS_WEB_SEARCH</th>\n",
       "      <th>UNRATE</th>\n",
       "    </tr>\n",
       "  </thead>\n",
       "  <tbody>\n",
       "    <tr>\n",
       "      <th>count</th>\n",
       "      <td>181.000000</td>\n",
       "      <td>181.000000</td>\n",
       "    </tr>\n",
       "    <tr>\n",
       "      <th>mean</th>\n",
       "      <td>35.110497</td>\n",
       "      <td>6.217680</td>\n",
       "    </tr>\n",
       "    <tr>\n",
       "      <th>std</th>\n",
       "      <td>20.484925</td>\n",
       "      <td>1.891859</td>\n",
       "    </tr>\n",
       "    <tr>\n",
       "      <th>min</th>\n",
       "      <td>14.000000</td>\n",
       "      <td>3.700000</td>\n",
       "    </tr>\n",
       "    <tr>\n",
       "      <th>25%</th>\n",
       "      <td>21.000000</td>\n",
       "      <td>4.700000</td>\n",
       "    </tr>\n",
       "    <tr>\n",
       "      <th>50%</th>\n",
       "      <td>26.000000</td>\n",
       "      <td>5.400000</td>\n",
       "    </tr>\n",
       "    <tr>\n",
       "      <th>75%</th>\n",
       "      <td>45.000000</td>\n",
       "      <td>7.800000</td>\n",
       "    </tr>\n",
       "    <tr>\n",
       "      <th>max</th>\n",
       "      <td>100.000000</td>\n",
       "      <td>10.000000</td>\n",
       "    </tr>\n",
       "  </tbody>\n",
       "</table>\n",
       "</div>"
      ],
      "text/plain": [
       "       UE_BENEFITS_WEB_SEARCH      UNRATE\n",
       "count              181.000000  181.000000\n",
       "mean                35.110497    6.217680\n",
       "std                 20.484925    1.891859\n",
       "min                 14.000000    3.700000\n",
       "25%                 21.000000    4.700000\n",
       "50%                 26.000000    5.400000\n",
       "75%                 45.000000    7.800000\n",
       "max                100.000000   10.000000"
      ]
     },
     "execution_count": 65,
     "metadata": {},
     "output_type": "execute_result"
    }
   ],
   "source": [
    "ue_200419.describe()"
   ]
  },
  {
   "cell_type": "markdown",
   "id": "de9182dc-57ea-450d-a7a2-22bc768a64dd",
   "metadata": {},
   "source": [
    "### Data Exploration Summary"
   ]
  },
  {
   "cell_type": "markdown",
   "id": "b75cd31b-5395-4b2f-bb57-d90683479d36",
   "metadata": {},
   "source": [
    "- There are 3 columns with 181 rows of data\n",
    "- The column data types are: 'MONTH'= object , 'UE_BENEFITS_WEB_SEARCH' = int64. 'UNRATE'=float64\n",
    "- The data in the columns represent:\n",
    "'MONTH'= The date , 'UE_BENEFITS_WEB_SEARCH' =  Monthly search interest on Google, 'UNRATE'= The US Unemployment Rate %\n",
    "- The highest number of searches during the period was 100\n",
    "- The lowest number of searches during the period was 14\n",
    "- The highest the US Unemployment Rate was during the period was 10%\n",
    "- The lowest the US Unemployment Rate was during the period was 3.7%\n",
    "- The periodicity of the time series data is Monthly"
   ]
  },
  {
   "cell_type": "markdown",
   "id": "1e284df5-ed24-488f-9325-e095ed8c0ffe",
   "metadata": {},
   "source": [
    "## Bitcoin"
   ]
  },
  {
   "cell_type": "markdown",
   "id": "e5d81acd-b48c-42cb-89d9-08238c60f036",
   "metadata": {},
   "source": [
    "### Data Exploration"
   ]
  },
  {
   "cell_type": "code",
   "execution_count": 87,
   "id": "3fc49315-6fdf-4fd5-9ad4-f13639245dc0",
   "metadata": {},
   "outputs": [],
   "source": [
    "btc_searches = pd.read_csv('data/Bitcoin Search Trend.csv')\n",
    "btc_price = pd.read_csv('data/Daily Bitcoin Price.csv')"
   ]
  },
  {
   "cell_type": "code",
   "execution_count": 89,
   "id": "425e34bd-1c3e-4266-b854-e8018e73b974",
   "metadata": {},
   "outputs": [
    {
     "data": {
      "text/html": [
       "<div>\n",
       "<style scoped>\n",
       "    .dataframe tbody tr th:only-of-type {\n",
       "        vertical-align: middle;\n",
       "    }\n",
       "\n",
       "    .dataframe tbody tr th {\n",
       "        vertical-align: top;\n",
       "    }\n",
       "\n",
       "    .dataframe thead th {\n",
       "        text-align: right;\n",
       "    }\n",
       "</style>\n",
       "<table border=\"1\" class=\"dataframe\">\n",
       "  <thead>\n",
       "    <tr style=\"text-align: right;\">\n",
       "      <th></th>\n",
       "      <th>MONTH</th>\n",
       "      <th>BTC_NEWS_SEARCH</th>\n",
       "    </tr>\n",
       "  </thead>\n",
       "  <tbody>\n",
       "    <tr>\n",
       "      <th>0</th>\n",
       "      <td>2014-09</td>\n",
       "      <td>5</td>\n",
       "    </tr>\n",
       "    <tr>\n",
       "      <th>1</th>\n",
       "      <td>2014-10</td>\n",
       "      <td>4</td>\n",
       "    </tr>\n",
       "    <tr>\n",
       "      <th>2</th>\n",
       "      <td>2014-11</td>\n",
       "      <td>4</td>\n",
       "    </tr>\n",
       "    <tr>\n",
       "      <th>3</th>\n",
       "      <td>2014-12</td>\n",
       "      <td>4</td>\n",
       "    </tr>\n",
       "    <tr>\n",
       "      <th>4</th>\n",
       "      <td>2015-01</td>\n",
       "      <td>5</td>\n",
       "    </tr>\n",
       "    <tr>\n",
       "      <th>...</th>\n",
       "      <td>...</td>\n",
       "      <td>...</td>\n",
       "    </tr>\n",
       "    <tr>\n",
       "      <th>68</th>\n",
       "      <td>2020-05</td>\n",
       "      <td>22</td>\n",
       "    </tr>\n",
       "    <tr>\n",
       "      <th>69</th>\n",
       "      <td>2020-06</td>\n",
       "      <td>13</td>\n",
       "    </tr>\n",
       "    <tr>\n",
       "      <th>70</th>\n",
       "      <td>2020-07</td>\n",
       "      <td>14</td>\n",
       "    </tr>\n",
       "    <tr>\n",
       "      <th>71</th>\n",
       "      <td>2020-08</td>\n",
       "      <td>16</td>\n",
       "    </tr>\n",
       "    <tr>\n",
       "      <th>72</th>\n",
       "      <td>2020-09</td>\n",
       "      <td>13</td>\n",
       "    </tr>\n",
       "  </tbody>\n",
       "</table>\n",
       "<p>73 rows × 2 columns</p>\n",
       "</div>"
      ],
      "text/plain": [
       "      MONTH  BTC_NEWS_SEARCH\n",
       "0   2014-09                5\n",
       "1   2014-10                4\n",
       "2   2014-11                4\n",
       "3   2014-12                4\n",
       "4   2015-01                5\n",
       "..      ...              ...\n",
       "68  2020-05               22\n",
       "69  2020-06               13\n",
       "70  2020-07               14\n",
       "71  2020-08               16\n",
       "72  2020-09               13\n",
       "\n",
       "[73 rows x 2 columns]"
      ]
     },
     "execution_count": 89,
     "metadata": {},
     "output_type": "execute_result"
    }
   ],
   "source": [
    "btc_searches"
   ]
  },
  {
   "cell_type": "code",
   "execution_count": 93,
   "id": "d41ac2a8-2b0a-4e83-839c-4d21b1f02138",
   "metadata": {},
   "outputs": [
    {
     "data": {
      "text/plain": [
       "MONTH              object\n",
       "BTC_NEWS_SEARCH     int64\n",
       "dtype: object"
      ]
     },
     "execution_count": 93,
     "metadata": {},
     "output_type": "execute_result"
    }
   ],
   "source": [
    "btc_searches.dtypes"
   ]
  },
  {
   "cell_type": "code",
   "execution_count": 95,
   "id": "21b97035-44fd-4c97-8db1-c22c4df8c487",
   "metadata": {},
   "outputs": [
    {
     "data": {
      "text/html": [
       "<div>\n",
       "<style scoped>\n",
       "    .dataframe tbody tr th:only-of-type {\n",
       "        vertical-align: middle;\n",
       "    }\n",
       "\n",
       "    .dataframe tbody tr th {\n",
       "        vertical-align: top;\n",
       "    }\n",
       "\n",
       "    .dataframe thead th {\n",
       "        text-align: right;\n",
       "    }\n",
       "</style>\n",
       "<table border=\"1\" class=\"dataframe\">\n",
       "  <thead>\n",
       "    <tr style=\"text-align: right;\">\n",
       "      <th></th>\n",
       "      <th>BTC_NEWS_SEARCH</th>\n",
       "    </tr>\n",
       "  </thead>\n",
       "  <tbody>\n",
       "    <tr>\n",
       "      <th>count</th>\n",
       "      <td>73.000000</td>\n",
       "    </tr>\n",
       "    <tr>\n",
       "      <th>mean</th>\n",
       "      <td>15.013699</td>\n",
       "    </tr>\n",
       "    <tr>\n",
       "      <th>std</th>\n",
       "      <td>15.146959</td>\n",
       "    </tr>\n",
       "    <tr>\n",
       "      <th>min</th>\n",
       "      <td>3.000000</td>\n",
       "    </tr>\n",
       "    <tr>\n",
       "      <th>25%</th>\n",
       "      <td>5.000000</td>\n",
       "    </tr>\n",
       "    <tr>\n",
       "      <th>50%</th>\n",
       "      <td>14.000000</td>\n",
       "    </tr>\n",
       "    <tr>\n",
       "      <th>75%</th>\n",
       "      <td>18.000000</td>\n",
       "    </tr>\n",
       "    <tr>\n",
       "      <th>max</th>\n",
       "      <td>100.000000</td>\n",
       "    </tr>\n",
       "  </tbody>\n",
       "</table>\n",
       "</div>"
      ],
      "text/plain": [
       "       BTC_NEWS_SEARCH\n",
       "count        73.000000\n",
       "mean         15.013699\n",
       "std          15.146959\n",
       "min           3.000000\n",
       "25%           5.000000\n",
       "50%          14.000000\n",
       "75%          18.000000\n",
       "max         100.000000"
      ]
     },
     "execution_count": 95,
     "metadata": {},
     "output_type": "execute_result"
    }
   ],
   "source": [
    "btc_searches.describe()"
   ]
  },
  {
   "cell_type": "code",
   "execution_count": 97,
   "id": "6f54b7c0-6e2e-467e-aabe-ecd591d01270",
   "metadata": {},
   "outputs": [
    {
     "data": {
      "text/html": [
       "<div>\n",
       "<style scoped>\n",
       "    .dataframe tbody tr th:only-of-type {\n",
       "        vertical-align: middle;\n",
       "    }\n",
       "\n",
       "    .dataframe tbody tr th {\n",
       "        vertical-align: top;\n",
       "    }\n",
       "\n",
       "    .dataframe thead th {\n",
       "        text-align: right;\n",
       "    }\n",
       "</style>\n",
       "<table border=\"1\" class=\"dataframe\">\n",
       "  <thead>\n",
       "    <tr style=\"text-align: right;\">\n",
       "      <th></th>\n",
       "      <th>DATE</th>\n",
       "      <th>CLOSE</th>\n",
       "      <th>VOLUME</th>\n",
       "    </tr>\n",
       "  </thead>\n",
       "  <tbody>\n",
       "    <tr>\n",
       "      <th>0</th>\n",
       "      <td>2014-09-17</td>\n",
       "      <td>457.334015</td>\n",
       "      <td>2.105680e+07</td>\n",
       "    </tr>\n",
       "    <tr>\n",
       "      <th>1</th>\n",
       "      <td>2014-09-18</td>\n",
       "      <td>424.440002</td>\n",
       "      <td>3.448320e+07</td>\n",
       "    </tr>\n",
       "    <tr>\n",
       "      <th>2</th>\n",
       "      <td>2014-09-19</td>\n",
       "      <td>394.795990</td>\n",
       "      <td>3.791970e+07</td>\n",
       "    </tr>\n",
       "    <tr>\n",
       "      <th>3</th>\n",
       "      <td>2014-09-20</td>\n",
       "      <td>408.903992</td>\n",
       "      <td>3.686360e+07</td>\n",
       "    </tr>\n",
       "    <tr>\n",
       "      <th>4</th>\n",
       "      <td>2014-09-21</td>\n",
       "      <td>398.821014</td>\n",
       "      <td>2.658010e+07</td>\n",
       "    </tr>\n",
       "    <tr>\n",
       "      <th>...</th>\n",
       "      <td>...</td>\n",
       "      <td>...</td>\n",
       "      <td>...</td>\n",
       "    </tr>\n",
       "    <tr>\n",
       "      <th>2199</th>\n",
       "      <td>2020-09-24</td>\n",
       "      <td>10745.548828</td>\n",
       "      <td>2.301754e+10</td>\n",
       "    </tr>\n",
       "    <tr>\n",
       "      <th>2200</th>\n",
       "      <td>2020-09-25</td>\n",
       "      <td>10702.290039</td>\n",
       "      <td>2.123255e+10</td>\n",
       "    </tr>\n",
       "    <tr>\n",
       "      <th>2201</th>\n",
       "      <td>2020-09-26</td>\n",
       "      <td>10754.437500</td>\n",
       "      <td>1.810501e+10</td>\n",
       "    </tr>\n",
       "    <tr>\n",
       "      <th>2202</th>\n",
       "      <td>2020-09-27</td>\n",
       "      <td>10774.426758</td>\n",
       "      <td>1.801688e+10</td>\n",
       "    </tr>\n",
       "    <tr>\n",
       "      <th>2203</th>\n",
       "      <td>2020-09-28</td>\n",
       "      <td>10912.536133</td>\n",
       "      <td>2.122653e+10</td>\n",
       "    </tr>\n",
       "  </tbody>\n",
       "</table>\n",
       "<p>2204 rows × 3 columns</p>\n",
       "</div>"
      ],
      "text/plain": [
       "            DATE         CLOSE        VOLUME\n",
       "0     2014-09-17    457.334015  2.105680e+07\n",
       "1     2014-09-18    424.440002  3.448320e+07\n",
       "2     2014-09-19    394.795990  3.791970e+07\n",
       "3     2014-09-20    408.903992  3.686360e+07\n",
       "4     2014-09-21    398.821014  2.658010e+07\n",
       "...          ...           ...           ...\n",
       "2199  2020-09-24  10745.548828  2.301754e+10\n",
       "2200  2020-09-25  10702.290039  2.123255e+10\n",
       "2201  2020-09-26  10754.437500  1.810501e+10\n",
       "2202  2020-09-27  10774.426758  1.801688e+10\n",
       "2203  2020-09-28  10912.536133  2.122653e+10\n",
       "\n",
       "[2204 rows x 3 columns]"
      ]
     },
     "execution_count": 97,
     "metadata": {},
     "output_type": "execute_result"
    }
   ],
   "source": [
    "btc_price"
   ]
  },
  {
   "cell_type": "code",
   "execution_count": 99,
   "id": "5ca2950f-5842-4700-9c22-3cddad0ee6f6",
   "metadata": {},
   "outputs": [
    {
     "data": {
      "text/plain": [
       "DATE       object\n",
       "CLOSE     float64\n",
       "VOLUME    float64\n",
       "dtype: object"
      ]
     },
     "execution_count": 99,
     "metadata": {},
     "output_type": "execute_result"
    }
   ],
   "source": [
    "btc_price.dtypes"
   ]
  },
  {
   "cell_type": "code",
   "execution_count": 101,
   "id": "dc6431fb-05d1-43a1-a6e1-d27cc9a51463",
   "metadata": {},
   "outputs": [
    {
     "data": {
      "text/html": [
       "<div>\n",
       "<style scoped>\n",
       "    .dataframe tbody tr th:only-of-type {\n",
       "        vertical-align: middle;\n",
       "    }\n",
       "\n",
       "    .dataframe tbody tr th {\n",
       "        vertical-align: top;\n",
       "    }\n",
       "\n",
       "    .dataframe thead th {\n",
       "        text-align: right;\n",
       "    }\n",
       "</style>\n",
       "<table border=\"1\" class=\"dataframe\">\n",
       "  <thead>\n",
       "    <tr style=\"text-align: right;\">\n",
       "      <th></th>\n",
       "      <th>CLOSE</th>\n",
       "      <th>VOLUME</th>\n",
       "    </tr>\n",
       "  </thead>\n",
       "  <tbody>\n",
       "    <tr>\n",
       "      <th>count</th>\n",
       "      <td>2203.000000</td>\n",
       "      <td>2.203000e+03</td>\n",
       "    </tr>\n",
       "    <tr>\n",
       "      <th>mean</th>\n",
       "      <td>4429.421245</td>\n",
       "      <td>8.043622e+09</td>\n",
       "    </tr>\n",
       "    <tr>\n",
       "      <th>std</th>\n",
       "      <td>4148.150071</td>\n",
       "      <td>1.176529e+10</td>\n",
       "    </tr>\n",
       "    <tr>\n",
       "      <th>min</th>\n",
       "      <td>178.102997</td>\n",
       "      <td>5.914570e+06</td>\n",
       "    </tr>\n",
       "    <tr>\n",
       "      <th>25%</th>\n",
       "      <td>433.629502</td>\n",
       "      <td>6.029915e+07</td>\n",
       "    </tr>\n",
       "    <tr>\n",
       "      <th>50%</th>\n",
       "      <td>3637.520020</td>\n",
       "      <td>2.018890e+09</td>\n",
       "    </tr>\n",
       "    <tr>\n",
       "      <th>75%</th>\n",
       "      <td>7997.372803</td>\n",
       "      <td>1.322478e+10</td>\n",
       "    </tr>\n",
       "    <tr>\n",
       "      <th>max</th>\n",
       "      <td>19497.400391</td>\n",
       "      <td>7.415677e+10</td>\n",
       "    </tr>\n",
       "  </tbody>\n",
       "</table>\n",
       "</div>"
      ],
      "text/plain": [
       "              CLOSE        VOLUME\n",
       "count   2203.000000  2.203000e+03\n",
       "mean    4429.421245  8.043622e+09\n",
       "std     4148.150071  1.176529e+10\n",
       "min      178.102997  5.914570e+06\n",
       "25%      433.629502  6.029915e+07\n",
       "50%     3637.520020  2.018890e+09\n",
       "75%     7997.372803  1.322478e+10\n",
       "max    19497.400391  7.415677e+10"
      ]
     },
     "execution_count": 101,
     "metadata": {},
     "output_type": "execute_result"
    }
   ],
   "source": [
    "btc_price.describe()"
   ]
  },
  {
   "cell_type": "markdown",
   "id": "16c45131-a813-47af-b109-7e1aeb04202a",
   "metadata": {},
   "source": [
    "### Data Exploration Summary"
   ]
  },
  {
   "cell_type": "markdown",
   "id": "7cf1b963-ef42-4a41-a9db-45b2ec1805ae",
   "metadata": {},
   "source": [
    "- In btc_searches there are 2 columns with 73 rows of data\n",
    "- The column data types are : 'MONTH' = object, 'BTC_NEWS_SEARCH'= int64\n",
    "- The data in the columns represent: 'MONTH' - The date, 'BTC_NEWS_SEARCH'= Monthly search interest on Google\n",
    "- The highest number of searches was 100\n",
    "- The lowest number of searches was 3\n",
    "- The periodicity of the time series data is Monthly\n",
    "\n",
    "- In btc_price there are 3 columns with 2204 rows of data\n",
    "- The column data types are : 'DATE' = object, 'CLOSE' = float64, 'VOLUME' = float64\n",
    "- The data in the columns represent : 'DATE' = The date, 'CLOSE' = BTC closing price, 'VOLUME' = BTC Volume Traded\n",
    "- The highest closing price was 19497.400391\n",
    "- The lowest closing price was 178.102997\n",
    "- The highest volume traded was 7.415677e+10\n",
    "- The lowest volume traded was 5.914570e+06\n",
    "- The periodicity of the time series data is Daily"
   ]
  },
  {
   "cell_type": "markdown",
   "id": "922fb09b-8766-4db4-a6c8-f9ffda9ac40b",
   "metadata": {},
   "source": [
    "## What does the number of Google searches actually mean?"
   ]
  },
  {
   "cell_type": "markdown",
   "id": "f3a93bde-132e-4156-953c-10e7a3c1ae2e",
   "metadata": {},
   "source": [
    "Monthly search interest on Google - Google defines the values of search interest as: \n",
    "- 'Numbers represent search interest relative to the highest point on the chart for the given region and time. A value of 100 is the peak popularity for the term. A value of 50 means that the term is half as popular. A score of 0 means there was not enough data for this term. '\n",
    "\n",
    "The actual search volume of a particular term is not publicly available, what Google offers is a scaled number:\n",
    "- Each data point is divided by the total searches of the geography and the time range it represents, this is used to compare relative popularity.\n",
    "- For each word, Google checks how much search volume in each region and time period the word had, relative to ALL the searches in that region and time period. All of these measures are then combined into a single measure of popularity, for which the values are then scaled across the terms provided - the largest value being 100.\n"
   ]
  },
  {
   "cell_type": "markdown",
   "id": "dbb5d83a-720d-4447-9d89-af9fd3a7aac2",
   "metadata": {},
   "source": [
    "## Data Cleaning\n",
    "- Remove rows containing missing or NaN values\n",
    "- Fix data types"
   ]
  },
  {
   "cell_type": "code",
   "execution_count": 124,
   "id": "700ccef6-75b9-41cf-9be0-414a4832867e",
   "metadata": {},
   "outputs": [
    {
     "data": {
      "text/plain": [
       "MONTH  TSLA_WEB_SEARCH  TSLA_USD_CLOSE\n",
       "False  False            False             124\n",
       "Name: count, dtype: int64"
      ]
     },
     "execution_count": 124,
     "metadata": {},
     "output_type": "execute_result"
    }
   ],
   "source": [
    "tesla.isna().value_counts()"
   ]
  },
  {
   "cell_type": "code",
   "execution_count": 134,
   "id": "8f5dbd94-9083-47fa-ae22-c1dabf905f1d",
   "metadata": {},
   "outputs": [
    {
     "data": {
      "text/plain": [
       "MONTH  UE_BENEFITS_WEB_SEARCH  UNRATE\n",
       "False  False                   False     181\n",
       "Name: count, dtype: int64"
      ]
     },
     "execution_count": 134,
     "metadata": {},
     "output_type": "execute_result"
    }
   ],
   "source": [
    "ue_200419.isna().value_counts()"
   ]
  },
  {
   "cell_type": "code",
   "execution_count": 144,
   "id": "635b98f0-1d16-40d7-a239-ef9ccd0042bd",
   "metadata": {},
   "outputs": [
    {
     "data": {
      "text/plain": [
       "MONTH  BTC_NEWS_SEARCH\n",
       "False  False              73\n",
       "Name: count, dtype: int64"
      ]
     },
     "execution_count": 144,
     "metadata": {},
     "output_type": "execute_result"
    }
   ],
   "source": [
    "btc_searches.isna().value_counts()"
   ]
  },
  {
   "cell_type": "code",
   "execution_count": 148,
   "id": "bc898bd6-3633-448b-b686-b993a07427f6",
   "metadata": {},
   "outputs": [
    {
     "data": {
      "text/plain": [
       "DATE   CLOSE  VOLUME\n",
       "False  False  False     2203\n",
       "       True   True         1\n",
       "Name: count, dtype: int64"
      ]
     },
     "execution_count": 148,
     "metadata": {},
     "output_type": "execute_result"
    }
   ],
   "source": [
    "btc_price.isna().value_counts()"
   ]
  },
  {
   "cell_type": "code",
   "execution_count": 158,
   "id": "576db4ed-66de-407e-9e9f-1f22a49dd7dc",
   "metadata": {},
   "outputs": [
    {
     "data": {
      "text/html": [
       "<div>\n",
       "<style scoped>\n",
       "    .dataframe tbody tr th:only-of-type {\n",
       "        vertical-align: middle;\n",
       "    }\n",
       "\n",
       "    .dataframe tbody tr th {\n",
       "        vertical-align: top;\n",
       "    }\n",
       "\n",
       "    .dataframe thead th {\n",
       "        text-align: right;\n",
       "    }\n",
       "</style>\n",
       "<table border=\"1\" class=\"dataframe\">\n",
       "  <thead>\n",
       "    <tr style=\"text-align: right;\">\n",
       "      <th></th>\n",
       "      <th>DATE</th>\n",
       "      <th>CLOSE</th>\n",
       "      <th>VOLUME</th>\n",
       "    </tr>\n",
       "  </thead>\n",
       "  <tbody>\n",
       "    <tr>\n",
       "      <th>2148</th>\n",
       "      <td>2020-08-04</td>\n",
       "      <td>NaN</td>\n",
       "      <td>NaN</td>\n",
       "    </tr>\n",
       "  </tbody>\n",
       "</table>\n",
       "</div>"
      ],
      "text/plain": [
       "            DATE  CLOSE  VOLUME\n",
       "2148  2020-08-04    NaN     NaN"
      ]
     },
     "execution_count": 158,
     "metadata": {},
     "output_type": "execute_result"
    }
   ],
   "source": [
    "btc_price[btc_price.isna().any(axis=1)]"
   ]
  },
  {
   "cell_type": "markdown",
   "id": "f727b859-5040-437e-b77d-fadcd0c4eabe",
   "metadata": {},
   "source": [
    "Removal of row containing NaN or missing values:"
   ]
  },
  {
   "cell_type": "code",
   "execution_count": 165,
   "id": "77d5ea73-6303-46c0-9091-66582f7f8c5c",
   "metadata": {},
   "outputs": [],
   "source": [
    "btc_price.dropna(inplace=True)"
   ]
  },
  {
   "cell_type": "code",
   "execution_count": 167,
   "id": "69de4af9-9451-49d6-b2ac-f1feec48e2ed",
   "metadata": {},
   "outputs": [
    {
     "data": {
      "text/html": [
       "<div>\n",
       "<style scoped>\n",
       "    .dataframe tbody tr th:only-of-type {\n",
       "        vertical-align: middle;\n",
       "    }\n",
       "\n",
       "    .dataframe tbody tr th {\n",
       "        vertical-align: top;\n",
       "    }\n",
       "\n",
       "    .dataframe thead th {\n",
       "        text-align: right;\n",
       "    }\n",
       "</style>\n",
       "<table border=\"1\" class=\"dataframe\">\n",
       "  <thead>\n",
       "    <tr style=\"text-align: right;\">\n",
       "      <th></th>\n",
       "      <th>DATE</th>\n",
       "      <th>CLOSE</th>\n",
       "      <th>VOLUME</th>\n",
       "    </tr>\n",
       "  </thead>\n",
       "  <tbody>\n",
       "  </tbody>\n",
       "</table>\n",
       "</div>"
      ],
      "text/plain": [
       "Empty DataFrame\n",
       "Columns: [DATE, CLOSE, VOLUME]\n",
       "Index: []"
      ]
     },
     "execution_count": 167,
     "metadata": {},
     "output_type": "execute_result"
    }
   ],
   "source": [
    "btc_price[btc_price.isna().any(axis=1)]"
   ]
  },
  {
   "cell_type": "code",
   "execution_count": 193,
   "id": "07c4109e-953d-480d-a6c7-7613fd72b538",
   "metadata": {},
   "outputs": [
    {
     "data": {
      "text/plain": [
       "MONTH               object\n",
       "TSLA_WEB_SEARCH      int64\n",
       "TSLA_USD_CLOSE     float64\n",
       "dtype: object"
      ]
     },
     "execution_count": 193,
     "metadata": {},
     "output_type": "execute_result"
    }
   ],
   "source": [
    "tesla.dtypes"
   ]
  },
  {
   "cell_type": "code",
   "execution_count": 197,
   "id": "4d5f5823-2918-4ebc-aff4-45251c483869",
   "metadata": {},
   "outputs": [],
   "source": [
    "tesla['MONTH'] = pd.to_datetime(tesla['MONTH'])"
   ]
  },
  {
   "cell_type": "code",
   "execution_count": 199,
   "id": "1fa2deed-49d2-47bf-bd07-a6d53099b0fb",
   "metadata": {},
   "outputs": [
    {
     "data": {
      "text/plain": [
       "MONTH              datetime64[ns]\n",
       "TSLA_WEB_SEARCH             int64\n",
       "TSLA_USD_CLOSE            float64\n",
       "dtype: object"
      ]
     },
     "execution_count": 199,
     "metadata": {},
     "output_type": "execute_result"
    }
   ],
   "source": [
    "tesla.dtypes"
   ]
  },
  {
   "cell_type": "code",
   "execution_count": 203,
   "id": "8b317ba7-c38d-4e33-9145-18f573f8af0e",
   "metadata": {},
   "outputs": [
    {
     "data": {
      "text/plain": [
       "MONTH                      object\n",
       "UE_BENEFITS_WEB_SEARCH      int64\n",
       "UNRATE                    float64\n",
       "dtype: object"
      ]
     },
     "execution_count": 203,
     "metadata": {},
     "output_type": "execute_result"
    }
   ],
   "source": [
    "ue_200419.dtypes"
   ]
  },
  {
   "cell_type": "code",
   "execution_count": 207,
   "id": "0bc9e8df-b066-4f02-9cdd-b41ed965b003",
   "metadata": {},
   "outputs": [],
   "source": [
    "ue_200419['MONTH'] = pd.to_datetime(ue_200419['MONTH'])"
   ]
  },
  {
   "cell_type": "code",
   "execution_count": 221,
   "id": "915a2f13-093b-4d43-a71a-95344c648778",
   "metadata": {},
   "outputs": [
    {
     "data": {
      "text/plain": [
       "MONTH                     datetime64[ns]\n",
       "UE_BENEFITS_WEB_SEARCH             int64\n",
       "UNRATE                           float64\n",
       "dtype: object"
      ]
     },
     "execution_count": 221,
     "metadata": {},
     "output_type": "execute_result"
    }
   ],
   "source": [
    "ue_200419.dtypes"
   ]
  },
  {
   "cell_type": "code",
   "execution_count": 223,
   "id": "9d60c3b9-53b1-4879-8598-27b07ef49cbf",
   "metadata": {
    "scrolled": true
   },
   "outputs": [
    {
     "data": {
      "text/plain": [
       "MONTH              object\n",
       "BTC_NEWS_SEARCH     int64\n",
       "dtype: object"
      ]
     },
     "execution_count": 223,
     "metadata": {},
     "output_type": "execute_result"
    }
   ],
   "source": [
    "btc_searches.dtypes"
   ]
  },
  {
   "cell_type": "code",
   "execution_count": 225,
   "id": "86a30946-227d-4396-ab1c-d20a2abfb3a4",
   "metadata": {},
   "outputs": [],
   "source": [
    "btc_searches['MONTH'] = pd.to_datetime(btc_searches['MONTH'])"
   ]
  },
  {
   "cell_type": "code",
   "execution_count": 227,
   "id": "b88e4474-5135-41e2-9864-5caa1eaecf51",
   "metadata": {},
   "outputs": [
    {
     "data": {
      "text/plain": [
       "MONTH              datetime64[ns]\n",
       "BTC_NEWS_SEARCH             int64\n",
       "dtype: object"
      ]
     },
     "execution_count": 227,
     "metadata": {},
     "output_type": "execute_result"
    }
   ],
   "source": [
    "btc_searches.dtypes"
   ]
  },
  {
   "cell_type": "code",
   "execution_count": 231,
   "id": "020e28f7-ea5f-4ddb-a795-da424b4a2a8d",
   "metadata": {},
   "outputs": [
    {
     "data": {
      "text/plain": [
       "DATE       object\n",
       "CLOSE     float64\n",
       "VOLUME    float64\n",
       "dtype: object"
      ]
     },
     "execution_count": 231,
     "metadata": {},
     "output_type": "execute_result"
    }
   ],
   "source": [
    "btc_price.dtypes"
   ]
  },
  {
   "cell_type": "code",
   "execution_count": 233,
   "id": "cfaeb168-3558-4135-90f8-8a6df6ac4fee",
   "metadata": {},
   "outputs": [],
   "source": [
    "btc_price['DATE'] = pd.to_datetime(btc_price['DATE'])"
   ]
  },
  {
   "cell_type": "code",
   "execution_count": 235,
   "id": "9aff81c0-5cd9-4f44-b944-ae72c7badda0",
   "metadata": {},
   "outputs": [
    {
     "data": {
      "text/plain": [
       "DATE      datetime64[ns]\n",
       "CLOSE            float64\n",
       "VOLUME           float64\n",
       "dtype: object"
      ]
     },
     "execution_count": 235,
     "metadata": {},
     "output_type": "execute_result"
    }
   ],
   "source": [
    "btc_price.dtypes"
   ]
  },
  {
   "cell_type": "markdown",
   "id": "ab33d0ae-523d-405c-acf3-92ee5418cd5d",
   "metadata": {},
   "source": [
    "Resample btc_prices DATE from day to month:"
   ]
  },
  {
   "cell_type": "code",
   "execution_count": 238,
   "id": "f47cdc82-1fea-4b00-a8f7-c3c58e2b6517",
   "metadata": {},
   "outputs": [
    {
     "name": "stderr",
     "output_type": "stream",
     "text": [
      "C:\\Users\\amitp\\AppData\\Local\\Temp\\ipykernel_17648\\1577701695.py:1: FutureWarning: 'M' is deprecated and will be removed in a future version, please use 'ME' instead.\n",
      "  btc_price_monthly = btc_price.resample('M', on='DATE').last()\n"
     ]
    }
   ],
   "source": [
    "btc_price_monthly = btc_price.resample('M', on='DATE').last()"
   ]
  },
  {
   "cell_type": "code",
   "execution_count": 240,
   "id": "857fcc3d-6c41-4b0c-af1d-8ef2df1ffb49",
   "metadata": {},
   "outputs": [
    {
     "data": {
      "text/html": [
       "<div>\n",
       "<style scoped>\n",
       "    .dataframe tbody tr th:only-of-type {\n",
       "        vertical-align: middle;\n",
       "    }\n",
       "\n",
       "    .dataframe tbody tr th {\n",
       "        vertical-align: top;\n",
       "    }\n",
       "\n",
       "    .dataframe thead th {\n",
       "        text-align: right;\n",
       "    }\n",
       "</style>\n",
       "<table border=\"1\" class=\"dataframe\">\n",
       "  <thead>\n",
       "    <tr style=\"text-align: right;\">\n",
       "      <th></th>\n",
       "      <th>CLOSE</th>\n",
       "      <th>VOLUME</th>\n",
       "    </tr>\n",
       "    <tr>\n",
       "      <th>DATE</th>\n",
       "      <th></th>\n",
       "      <th></th>\n",
       "    </tr>\n",
       "  </thead>\n",
       "  <tbody>\n",
       "    <tr>\n",
       "      <th>2014-09-30</th>\n",
       "      <td>386.944000</td>\n",
       "      <td>3.470730e+07</td>\n",
       "    </tr>\n",
       "    <tr>\n",
       "      <th>2014-10-31</th>\n",
       "      <td>338.321014</td>\n",
       "      <td>1.254540e+07</td>\n",
       "    </tr>\n",
       "    <tr>\n",
       "      <th>2014-11-30</th>\n",
       "      <td>378.046997</td>\n",
       "      <td>9.194440e+06</td>\n",
       "    </tr>\n",
       "    <tr>\n",
       "      <th>2014-12-31</th>\n",
       "      <td>320.192993</td>\n",
       "      <td>1.394290e+07</td>\n",
       "    </tr>\n",
       "    <tr>\n",
       "      <th>2015-01-31</th>\n",
       "      <td>217.464005</td>\n",
       "      <td>2.334820e+07</td>\n",
       "    </tr>\n",
       "    <tr>\n",
       "      <th>...</th>\n",
       "      <td>...</td>\n",
       "      <td>...</td>\n",
       "    </tr>\n",
       "    <tr>\n",
       "      <th>2020-05-31</th>\n",
       "      <td>9461.058594</td>\n",
       "      <td>2.777329e+10</td>\n",
       "    </tr>\n",
       "    <tr>\n",
       "      <th>2020-06-30</th>\n",
       "      <td>9137.993164</td>\n",
       "      <td>1.573580e+10</td>\n",
       "    </tr>\n",
       "    <tr>\n",
       "      <th>2020-07-31</th>\n",
       "      <td>11323.466797</td>\n",
       "      <td>2.316047e+10</td>\n",
       "    </tr>\n",
       "    <tr>\n",
       "      <th>2020-08-31</th>\n",
       "      <td>11680.820313</td>\n",
       "      <td>2.228593e+10</td>\n",
       "    </tr>\n",
       "    <tr>\n",
       "      <th>2020-09-30</th>\n",
       "      <td>10912.536133</td>\n",
       "      <td>2.122653e+10</td>\n",
       "    </tr>\n",
       "  </tbody>\n",
       "</table>\n",
       "<p>73 rows × 2 columns</p>\n",
       "</div>"
      ],
      "text/plain": [
       "                   CLOSE        VOLUME\n",
       "DATE                                  \n",
       "2014-09-30    386.944000  3.470730e+07\n",
       "2014-10-31    338.321014  1.254540e+07\n",
       "2014-11-30    378.046997  9.194440e+06\n",
       "2014-12-31    320.192993  1.394290e+07\n",
       "2015-01-31    217.464005  2.334820e+07\n",
       "...                  ...           ...\n",
       "2020-05-31   9461.058594  2.777329e+10\n",
       "2020-06-30   9137.993164  1.573580e+10\n",
       "2020-07-31  11323.466797  2.316047e+10\n",
       "2020-08-31  11680.820313  2.228593e+10\n",
       "2020-09-30  10912.536133  2.122653e+10\n",
       "\n",
       "[73 rows x 2 columns]"
      ]
     },
     "execution_count": 240,
     "metadata": {},
     "output_type": "execute_result"
    }
   ],
   "source": [
    "btc_price_monthly"
   ]
  },
  {
   "cell_type": "code",
   "execution_count": null,
   "id": "52b1c299-b178-4f5e-944f-d52bc853a44f",
   "metadata": {},
   "outputs": [],
   "source": []
  }
 ],
 "metadata": {
  "kernelspec": {
   "display_name": "Python 3 (ipykernel)",
   "language": "python",
   "name": "python3"
  },
  "language_info": {
   "codemirror_mode": {
    "name": "ipython",
    "version": 3
   },
   "file_extension": ".py",
   "mimetype": "text/x-python",
   "name": "python",
   "nbconvert_exporter": "python",
   "pygments_lexer": "ipython3",
   "version": "3.12.4"
  }
 },
 "nbformat": 4,
 "nbformat_minor": 5
}
